{
 "cells": [
  {
   "cell_type": "code",
   "execution_count": 1,
   "metadata": {},
   "outputs": [],
   "source": [
    "import pandas as pd\n",
    "import numpy as np\n",
    "import random\n",
    "import matplotlib.pyplot as plt\n",
    "%matplotlib inline\n",
    
   ]
  },
  {
   "cell_type": "code",
   "execution_count": 4,
   "metadata": {},
   "outputs": [
    {
     "data": {
      "text/html": [
       "<div>\n",
       "<style scoped>\n",
       "    .dataframe tbody tr th:only-of-type {\n",
       "        vertical-align: middle;\n",
       "    }\n",
       "\n",
       "    .dataframe tbody tr th {\n",
       "        vertical-align: top;\n",
       "    }\n",
       "\n",
       "    .dataframe thead th {\n",
       "        text-align: right;\n",
       "    }\n",
       "</style>\n",
       "<table border=\"1\" class=\"dataframe\">\n",
       "  <thead>\n",
       "    <tr style=\"text-align: right;\">\n",
       "      <th></th>\n",
       "      <th>user_id</th>\n",
       "      <th>timestamp</th>\n",
       "      <th>group</th>\n",
       "      <th>landing_page</th>\n",
       "      <th>converted</th>\n",
       "    </tr>\n",
       "  </thead>\n",
       "  <tbody>\n",
       "    <tr>\n",
       "      <th>0</th>\n",
       "      <td>851104</td>\n",
       "      <td>2017-01-21 22:11:48.557</td>\n",
       "      <td>control</td>\n",
       "      <td>old_page</td>\n",
       "      <td>0</td>\n",
       "    </tr>\n",
       "    <tr>\n",
       "      <th>1</th>\n",
       "      <td>804228</td>\n",
       "      <td>2017-01-12 08:01:45.160</td>\n",
       "      <td>control</td>\n",
       "      <td>old_page</td>\n",
       "      <td>0</td>\n",
       "    </tr>\n",
       "    <tr>\n",
       "      <th>2</th>\n",
       "      <td>661590</td>\n",
       "      <td>2017-01-11 16:55:06.154</td>\n",
       "      <td>treatment</td>\n",
       "      <td>new_page</td>\n",
       "      <td>0</td>\n",
       "    </tr>\n",
       "    <tr>\n",
       "      <th>3</th>\n",
       "      <td>853541</td>\n",
       "      <td>2017-01-08 18:28:03.144</td>\n",
       "      <td>treatment</td>\n",
       "      <td>new_page</td>\n",
       "      <td>0</td>\n",
       "    </tr>\n",
       "    <tr>\n",
       "      <th>4</th>\n",
       "      <td>864975</td>\n",
       "      <td>2017-01-21 01:52:26.211</td>\n",
       "      <td>control</td>\n",
       "      <td>old_page</td>\n",
       "      <td>1</td>\n",
       "    </tr>\n",
       "  </tbody>\n",
       "</table>\n",
       "</div>"
      ],
      "text/plain": [
       "   user_id               timestamp      group landing_page  converted\n",
       "0   851104 2017-01-21 22:11:48.557    control     old_page          0\n",
       "1   804228 2017-01-12 08:01:45.160    control     old_page          0\n",
       "2   661590 2017-01-11 16:55:06.154  treatment     new_page          0\n",
       "3   853541 2017-01-08 18:28:03.144  treatment     new_page          0\n",
       "4   864975 2017-01-21 01:52:26.211    control     old_page          1"
      ]
     },
     "execution_count": 4,
     "metadata": {},
     "output_type": "execute_result"
    }
   ],
   "source": [
    "# import data\n",
    "df = pd.read_excel('storeedo.xlsx')\n",
    "df.head()"
   ]
  },
  {
   "cell_type": "code",
   "execution_count": 5,
   "metadata": {},
   "outputs": [
    {
     "data": {
      "text/html": [
       "<div>\n",
       "<style scoped>\n",
       "    .dataframe tbody tr th:only-of-type {\n",
       "        vertical-align: middle;\n",
       "    }\n",
       "\n",
       "    .dataframe tbody tr th {\n",
       "        vertical-align: top;\n",
       "    }\n",
       "\n",
       "    .dataframe thead th {\n",
       "        text-align: right;\n",
       "    }\n",
       "</style>\n",
       "<table border=\"1\" class=\"dataframe\">\n",
       "  <thead>\n",
       "    <tr style=\"text-align: right;\">\n",
       "      <th></th>\n",
       "      <th>user_id</th>\n",
       "      <th>converted</th>\n",
       "    </tr>\n",
       "  </thead>\n",
       "  <tbody>\n",
       "    <tr>\n",
       "      <th>count</th>\n",
       "      <td>294478.000000</td>\n",
       "      <td>294478.000000</td>\n",
       "    </tr>\n",
       "    <tr>\n",
       "      <th>mean</th>\n",
       "      <td>787974.124733</td>\n",
       "      <td>0.119659</td>\n",
       "    </tr>\n",
       "    <tr>\n",
       "      <th>std</th>\n",
       "      <td>91210.823776</td>\n",
       "      <td>0.324563</td>\n",
       "    </tr>\n",
       "    <tr>\n",
       "      <th>min</th>\n",
       "      <td>630000.000000</td>\n",
       "      <td>0.000000</td>\n",
       "    </tr>\n",
       "    <tr>\n",
       "      <th>25%</th>\n",
       "      <td>709032.250000</td>\n",
       "      <td>0.000000</td>\n",
       "    </tr>\n",
       "    <tr>\n",
       "      <th>50%</th>\n",
       "      <td>787933.500000</td>\n",
       "      <td>0.000000</td>\n",
       "    </tr>\n",
       "    <tr>\n",
       "      <th>75%</th>\n",
       "      <td>866911.750000</td>\n",
       "      <td>0.000000</td>\n",
       "    </tr>\n",
       "    <tr>\n",
       "      <th>max</th>\n",
       "      <td>945999.000000</td>\n",
       "      <td>1.000000</td>\n",
       "    </tr>\n",
       "  </tbody>\n",
       "</table>\n",
       "</div>"
      ],
      "text/plain": [
       "             user_id      converted\n",
       "count  294478.000000  294478.000000\n",
       "mean   787974.124733       0.119659\n",
       "std     91210.823776       0.324563\n",
       "min    630000.000000       0.000000\n",
       "25%    709032.250000       0.000000\n",
       "50%    787933.500000       0.000000\n",
       "75%    866911.750000       0.000000\n",
       "max    945999.000000       1.000000"
      ]
     },
     "execution_count": 5,
     "metadata": {},
     "output_type": "execute_result"
    }
   ],
   "source": [
    "# use describe or shape to find number of rows\n",
    "df.describe()"
   ]
  },
  {
   "cell_type": "code",
   "execution_count": 6,
   "metadata": {},
   "outputs": [
    {
     "data": {
      "text/plain": [
       "(294478, 5)"
      ]
     },
     "execution_count": 6,
     "metadata": {},
     "output_type": "execute_result"
    }
   ],
   "source": [
    "df.shape"
   ]
  },
  {
   "cell_type": "code",
   "execution_count": 7,
   "metadata": {},
   "outputs": [
    {
     "data": {
      "text/plain": [
       "user_id         290584\n",
       "timestamp       294452\n",
       "group                2\n",
       "landing_page         2\n",
       "converted            2\n",
       "dtype: int64"
      ]
     },
     "execution_count": 7,
     "metadata": {},
     "output_type": "execute_result"
    }
   ],
   "source": [
    "df.nunique()"
   ]
  },
  {
   "cell_type": "code",
   "execution_count": 8,
   "metadata": {},
   "outputs": [
    {
     "name": "stdout",
     "output_type": "stream",
     "text": [
      "<class 'pandas.core.frame.DataFrame'>\n",
      "RangeIndex: 294478 entries, 0 to 294477\n",
      "Data columns (total 5 columns):\n",
      "user_id         294478 non-null int64\n",
      "timestamp       294478 non-null datetime64[ns]\n",
      "group           294478 non-null object\n",
      "landing_page    294478 non-null object\n",
      "converted       294478 non-null int64\n",
      "dtypes: datetime64[ns](1), int64(2), object(2)\n",
      "memory usage: 11.2+ MB\n"
     ]
    }
   ],
   "source": [
    "df.info()"
   ]
  },
  {
   "cell_type": "code",
   "execution_count": 9,
   "metadata": {},
   "outputs": [],
   "source": [
    "# put all treatment AND new_page into one dataframe\n",
    "df2t = df.query('group == \"treatment\" and landing_page == \"new_page\"')"
   ]
  },
  {
   "cell_type": "code",
   "execution_count": 10,
   "metadata": {},
   "outputs": [],
   "source": [
    "# put all control AND old_page into one dataframe\n",
    "df2c = df.query('group == \"control\" and landing_page == \"old_page\"')"
   ]
  },
  {
   "cell_type": "code",
   "execution_count": 11,
   "metadata": {},
   "outputs": [],
   "source": [
    "df2 = df2t.merge(df2c, how='outer')"
   ]
  },
  {
   "cell_type": "code",
   "execution_count": 12,
   "metadata": {},
   "outputs": [
    {
     "data": {
      "text/html": [
       "<div>\n",
       "<style scoped>\n",
       "    .dataframe tbody tr th:only-of-type {\n",
       "        vertical-align: middle;\n",
       "    }\n",
       "\n",
       "    .dataframe tbody tr th {\n",
       "        vertical-align: top;\n",
       "    }\n",
       "\n",
       "    .dataframe thead th {\n",
       "        text-align: right;\n",
       "    }\n",
       "</style>\n",
       "<table border=\"1\" class=\"dataframe\">\n",
       "  <thead>\n",
       "    <tr style=\"text-align: right;\">\n",
       "      <th></th>\n",
       "      <th>user_id</th>\n",
       "      <th>timestamp</th>\n",
       "      <th>group</th>\n",
       "      <th>landing_page</th>\n",
       "      <th>converted</th>\n",
       "    </tr>\n",
       "  </thead>\n",
       "  <tbody>\n",
       "    <tr>\n",
       "      <th>0</th>\n",
       "      <td>661590</td>\n",
       "      <td>2017-01-11 16:55:06.154</td>\n",
       "      <td>treatment</td>\n",
       "      <td>new_page</td>\n",
       "      <td>0</td>\n",
       "    </tr>\n",
       "    <tr>\n",
       "      <th>1</th>\n",
       "      <td>853541</td>\n",
       "      <td>2017-01-08 18:28:03.144</td>\n",
       "      <td>treatment</td>\n",
       "      <td>new_page</td>\n",
       "      <td>0</td>\n",
       "    </tr>\n",
       "    <tr>\n",
       "      <th>2</th>\n",
       "      <td>679687</td>\n",
       "      <td>2017-01-19 03:26:46.941</td>\n",
       "      <td>treatment</td>\n",
       "      <td>new_page</td>\n",
       "      <td>1</td>\n",
       "    </tr>\n",
       "    <tr>\n",
       "      <th>3</th>\n",
       "      <td>817355</td>\n",
       "      <td>2017-01-04 17:58:08.979</td>\n",
       "      <td>treatment</td>\n",
       "      <td>new_page</td>\n",
       "      <td>1</td>\n",
       "    </tr>\n",
       "    <tr>\n",
       "      <th>4</th>\n",
       "      <td>839785</td>\n",
       "      <td>2017-01-15 18:11:06.611</td>\n",
       "      <td>treatment</td>\n",
       "      <td>new_page</td>\n",
       "      <td>1</td>\n",
       "    </tr>\n",
       "  </tbody>\n",
       "</table>\n",
       "</div>"
      ],
      "text/plain": [
       "   user_id               timestamp      group landing_page  converted\n",
       "0   661590 2017-01-11 16:55:06.154  treatment     new_page          0\n",
       "1   853541 2017-01-08 18:28:03.144  treatment     new_page          0\n",
       "2   679687 2017-01-19 03:26:46.941  treatment     new_page          1\n",
       "3   817355 2017-01-04 17:58:08.979  treatment     new_page          1\n",
       "4   839785 2017-01-15 18:11:06.611  treatment     new_page          1"
      ]
     },
     "execution_count": 12,
     "metadata": {},
     "output_type": "execute_result"
    }
   ],
   "source": [
    "df2.head()"
   ]
  },
  {
   "cell_type": "code",
   "execution_count": 14,
   "metadata": {},
   "outputs": [
    {
     "data": {
      "text/plain": [
       "0.1203863045004612"
      ]
     },
     "execution_count": 14,
     "metadata": {},
     "output_type": "execute_result"
    }
   ],
   "source": [
    "df2_control = df2.query('group == \"control\"')\n",
    "df2_control.converted.mean()"
   ]
  },
  {
   "cell_type": "code",
   "execution_count": 15,
   "metadata": {},
   "outputs": [
    {
     "data": {
      "text/plain": [
       "0.11880724790277405"
      ]
     },
     "execution_count": 15,
     "metadata": {},
     "output_type": "execute_result"
    }
   ],
   "source": [
    "df2_treatment = df2.query('group == \"treatment\"')\n",
    "df2_treatment.converted.mean()"
   ]
  },
  {
   "cell_type": "code",
   "execution_count": 25,
   "metadata": {},
   "outputs": [
    {
     "data": {
      "text/plain": [
       "0.11959667567149027"
      ]
     },
     "execution_count": 25,
     "metadata": {},
     "output_type": "execute_result"
    }
   ],
   "source": [
    "convert_mean = df2.converted.mean()\n",
    "convert_mean"
   ]
  },
  {
   "cell_type": "code",
   "execution_count": 16,
   "metadata": {},
   "outputs": [
    {
     "data": {
      "text/plain": [
       "0.5000636646764286"
      ]
     },
     "execution_count": 16,
     "metadata": {},
     "output_type": "execute_result"
    }
   ],
   "source": [
    "len(df2_treatment.index)/len(df2.index)"
   ]
  },
  {
   "cell_type": "code",
   "execution_count": 17,
   "metadata": {},
   "outputs": [
    {
     "data": {
      "text/plain": [
       "145311"
      ]
     },
     "execution_count": 17,
     "metadata": {},
     "output_type": "execute_result"
    }
   ],
   "source": [
    "n_new = len(df2_treatment.index)\n",
    "n_new"
   ]
  },
  {
   "cell_type": "code",
   "execution_count": 18,
   "metadata": {},
   "outputs": [
    {
     "data": {
      "text/plain": [
       "145274"
      ]
     },
     "execution_count": 18,
     "metadata": {},
     "output_type": "execute_result"
    }
   ],
   "source": [
    "n_old = len(df2_control.index)\n",
    "n_old"
   ]
  },
  {
   "cell_type": "code",
   "execution_count": 19,
   "metadata": {},
   "outputs": [],
   "source": [
    "# simulate under null for n_new\n",
    "new_page_converted = np.random.choice([1, 0], size=len(df2_treatment.index), p=[df2.converted.mean(), (1-(df2.converted.mean()))])"
   ]
  },
  {
   "cell_type": "code",
   "execution_count": 20,
   "metadata": {},
   "outputs": [
    {
     "data": {
      "image/png": "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\n",
      "text/plain": [
       "<matplotlib.figure.Figure at 0x1c80bf7c470>"
      ]
     },
     "metadata": {
      "needs_background": "light"
     },
     "output_type": "display_data"
    }
   ],
   "source": [
    "plt.hist(new_page_converted);"
   ]
  },
  {
   "cell_type": "code",
   "execution_count": 21,
   "metadata": {},
   "outputs": [],
   "source": [
    "# simulate under null for n_new\n",
    "old_page_converted = np.random.choice([1, 0], size=len(df2_control.index), p=[df2.converted.mean(), (1-(df2.converted.mean()))])"
   ]
  },
  {
   "cell_type": "code",
   "execution_count": 22,
   "metadata": {},
   "outputs": [
    {
     "data": {
      "text/plain": [
       "0.0018830085773476196"
      ]
     },
     "execution_count": 22,
     "metadata": {},
     "output_type": "execute_result"
    }
   ],
   "source": [
    "new_page_converted.mean() - old_page_converted.mean()"
   ]
  },
  {
   "cell_type": "code",
   "execution_count": 27,
   "metadata": {},
   "outputs": [],
   "source": [
    "p_diffs = []\n",
    "\n",
    "for i in range(1000):\n",
    "    new_page_converted = np.random.choice([0, 1], size=n_new, p=[(1 - convert_mean), convert_mean])\n",
    "    old_page_converted = np.random.choice([0, 1], size=n_old, p=[(1 - convert_mean), convert_mean])\n",
    "    p_diffs.append(new_page_converted.mean() - old_page_converted.mean())"
   ]
  },
  {
   "cell_type": "code",
   "execution_count": 28,
   "metadata": {},
   "outputs": [],
   "source": [
    "p_diffs = np.asarray(p_diffs)"
   ]
  },
  {
   "cell_type": "code",
   "execution_count": 33,
   "metadata": {},
   "outputs": [
    {
     "data": {
      "text/plain": [
       "0.1203863045004612"
      ]
     },
     "execution_count": 33,
     "metadata": {},
     "output_type": "execute_result"
    }
   ],
   "source": [
    "control_convert = df2[df2['group'] == 'control']['converted'].mean()\n",
    "control_convert"
   ]
  },
  {
   "cell_type": "code",
   "execution_count": 30,
   "metadata": {},
   "outputs": [
    {
     "data": {
      "text/plain": [
       "0.11880724790277405"
      ]
     },
     "execution_count": 30,
     "metadata": {},
     "output_type": "execute_result"
    }
   ],
   "source": [
    "treat_convert = df2[df2['group'] == 'treatment']['converted'].mean()\n",
    "treat_convert"
   ]
  },
  {
   "cell_type": "code",
   "execution_count": 34,
   "metadata": {},
   "outputs": [
    {
     "data": {
      "image/png": "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\n",
      "text/plain": [
       "<matplotlib.figure.Figure at 0x1c80a017550>"
      ]
     },
     "metadata": {
      "needs_background": "light"
     },
     "output_type": "display_data"
    }
   ],
   "source": [
    "plt.hist(p_diffs)\n",
    "plt.title(\"Simulated Differences in Conversion Rates for Null Hypothesis \\n\", fontsize=14)\n",
    "plt.xlabel(\"\\n Difference in Probability\", fontsize=12)\n",
    "plt.axvline(treat_convert - control_convert, color='r');"
   ]
  },
  {
   "cell_type": "code",
   "execution_count": 35,
   "metadata": {},
   "outputs": [
    {
     "data": {
      "text/plain": [
       "0.909"
      ]
     },
     "execution_count": 35,
     "metadata": {},
     "output_type": "execute_result"
    }
   ],
   "source": [
    "obs_diff = treat_convert - control_convert\n",
    "\n",
    "(p_diffs > obs_diff).mean()"
   ]
  },
  {
   "cell_type": "code",
   "execution_count": 36,
   "metadata": {},
   "outputs": [
    {
     "name": "stderr",
     "output_type": "stream",
     "text": [
      "C:\\Users\\humay\\Anaconda3\\lib\\site-packages\\statsmodels\\compat\\pandas.py:56: FutureWarning: The pandas.core.datetools module is deprecated and will be removed in a future version. Please use the pandas.tseries module instead.\n",
      "  from pandas.core import datetools\n"
     ]
    }
   ],
   "source": [
    "\n",
    "import statsmodels.api as sm\n",
    "\n",
    "convert_old = df2.query('group == \"control\" & converted == 1')['converted'].count()\n",
    "convert_new = df2.query('group == \"treatment\" & converted == 1')['converted'].count()"
   ]
  },
  {
   "cell_type": "code",
   "execution_count": 37,
   "metadata": {},
   "outputs": [
    {
     "data": {
      "text/plain": [
       "(-1.3116075339133115, 0.905173705140591)"
      ]
     },
     "execution_count": 37,
     "metadata": {},
     "output_type": "execute_result"
    }
   ],
   "source": [
    "sm.stats.proportions_ztest([convert_new, convert_old], [n_new, n_old], alternative='larger')"
   ]
  },
  {
   "cell_type": "code",
   "execution_count": null,
   "metadata": {},
   "outputs": [],
   "source": []
  }
 ],
 "metadata": {
  "kernelspec": {
   "display_name": "Python 3",
   "language": "python",
   "name": "python3"
  },
  "language_info": {
   "codemirror_mode": {
    "name": "ipython",
    "version": 3
   },
   "file_extension": ".py",
   "mimetype": "text/x-python",
   "name": "python",
   "nbconvert_exporter": "python",
   "pygments_lexer": "ipython3",
   "version": "3.6.4"
  }
 },
 "nbformat": 4,
 "nbformat_minor": 2
}
