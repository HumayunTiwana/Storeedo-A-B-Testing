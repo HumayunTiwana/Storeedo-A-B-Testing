{
 "cells": [
  {
   "cell_type": "code",
   "execution_count": 15,
   "metadata": {},
   "outputs": [],
   "source": [
    "import pandas as pd\n",
    "import numpy as np\n",
    "import random\n",
    "import matplotlib.pyplot as plt\n",
    "%matplotlib inline\n",
  
   ]
  },
  {
   "cell_type": "code",
   "execution_count": 16,
   "metadata": {},
   "outputs": [
    {
     "data": {
      "text/html": [
       "<div>\n",
       "<style scoped>\n",
       "    .dataframe tbody tr th:only-of-type {\n",
       "        vertical-align: middle;\n",
       "    }\n",
       "\n",
       "    .dataframe tbody tr th {\n",
       "        vertical-align: top;\n",
       "    }\n",
       "\n",
       "    .dataframe thead th {\n",
       "        text-align: right;\n",
       "    }\n",
       "</style>\n",
       "<table border=\"1\" class=\"dataframe\">\n",
       "  <thead>\n",
       "    <tr style=\"text-align: right;\">\n",
       "      <th></th>\n",
       "      <th>user_id</th>\n",
       "      <th>timestamp</th>\n",
       "      <th>group</th>\n",
       "      <th>landing_page</th>\n",
       "      <th>converted</th>\n",
       "    </tr>\n",
       "  </thead>\n",
       "  <tbody>\n",
       "    <tr>\n",
       "      <th>0</th>\n",
       "      <td>851104</td>\n",
       "      <td>2019-01-21 22:11:49</td>\n",
       "      <td>control</td>\n",
       "      <td>old_page</td>\n",
       "      <td>0</td>\n",
       "    </tr>\n",
       "    <tr>\n",
       "      <th>1</th>\n",
       "      <td>804228</td>\n",
       "      <td>2019-01-12 08:01:45</td>\n",
       "      <td>control</td>\n",
       "      <td>old_page</td>\n",
       "      <td>0</td>\n",
       "    </tr>\n",
       "    <tr>\n",
       "      <th>2</th>\n",
       "      <td>661590</td>\n",
       "      <td>2019-01-11 16:55:06</td>\n",
       "      <td>treatment</td>\n",
       "      <td>new_page</td>\n",
       "      <td>0</td>\n",
       "    </tr>\n",
       "    <tr>\n",
       "      <th>3</th>\n",
       "      <td>853541</td>\n",
       "      <td>2019-01-08 18:28:03</td>\n",
       "      <td>treatment</td>\n",
       "      <td>new_page</td>\n",
       "      <td>0</td>\n",
       "    </tr>\n",
       "    <tr>\n",
       "      <th>4</th>\n",
       "      <td>864975</td>\n",
       "      <td>2019-01-21 01:52:26</td>\n",
       "      <td>control</td>\n",
       "      <td>old_page</td>\n",
       "      <td>1</td>\n",
       "    </tr>\n",
       "  </tbody>\n",
       "</table>\n",
       "</div>"
      ],
      "text/plain": [
       "   user_id           timestamp      group landing_page  converted\n",
       "0   851104 2019-01-21 22:11:49    control     old_page          0\n",
       "1   804228 2019-01-12 08:01:45    control     old_page          0\n",
       "2   661590 2019-01-11 16:55:06  treatment     new_page          0\n",
       "3   853541 2019-01-08 18:28:03  treatment     new_page          0\n",
       "4   864975 2019-01-21 01:52:26    control     old_page          1"
      ]
     },
     "execution_count": 16,
     "metadata": {},
     "output_type": "execute_result"
    }
   ],
   "source": [
    "# import data\n",
    "df = pd.read_excel('storeedo.xlsx')\n",
    "df.head()"
   ]
  },
  {
   "cell_type": "code",
   "execution_count": 17,
   "metadata": {},
   "outputs": [
    {
     "data": {
      "text/html": [
       "<div>\n",
       "<style scoped>\n",
       "    .dataframe tbody tr th:only-of-type {\n",
       "        vertical-align: middle;\n",
       "    }\n",
       "\n",
       "    .dataframe tbody tr th {\n",
       "        vertical-align: top;\n",
       "    }\n",
       "\n",
       "    .dataframe thead th {\n",
       "        text-align: right;\n",
       "    }\n",
       "</style>\n",
       "<table border=\"1\" class=\"dataframe\">\n",
       "  <thead>\n",
       "    <tr style=\"text-align: right;\">\n",
       "      <th></th>\n",
       "      <th>user_id</th>\n",
       "      <th>converted</th>\n",
       "    </tr>\n",
       "  </thead>\n",
       "  <tbody>\n",
       "    <tr>\n",
       "      <th>count</th>\n",
       "      <td>294478.000000</td>\n",
       "      <td>294478.000000</td>\n",
       "    </tr>\n",
       "    <tr>\n",
       "      <th>mean</th>\n",
       "      <td>787974.124733</td>\n",
       "      <td>0.119659</td>\n",
       "    </tr>\n",
       "    <tr>\n",
       "      <th>std</th>\n",
       "      <td>91210.823776</td>\n",
       "      <td>0.324563</td>\n",
       "    </tr>\n",
       "    <tr>\n",
       "      <th>min</th>\n",
       "      <td>630000.000000</td>\n",
       "      <td>0.000000</td>\n",
       "    </tr>\n",
       "    <tr>\n",
       "      <th>25%</th>\n",
       "      <td>709032.250000</td>\n",
       "      <td>0.000000</td>\n",
       "    </tr>\n",
       "    <tr>\n",
       "      <th>50%</th>\n",
       "      <td>787933.500000</td>\n",
       "      <td>0.000000</td>\n",
       "    </tr>\n",
       "    <tr>\n",
       "      <th>75%</th>\n",
       "      <td>866911.750000</td>\n",
       "      <td>0.000000</td>\n",
       "    </tr>\n",
       "    <tr>\n",
       "      <th>max</th>\n",
       "      <td>945999.000000</td>\n",
       "      <td>1.000000</td>\n",
       "    </tr>\n",
       "  </tbody>\n",
       "</table>\n",
       "</div>"
      ],
      "text/plain": [
       "             user_id      converted\n",
       "count  294478.000000  294478.000000\n",
       "mean   787974.124733       0.119659\n",
       "std     91210.823776       0.324563\n",
       "min    630000.000000       0.000000\n",
       "25%    709032.250000       0.000000\n",
       "50%    787933.500000       0.000000\n",
       "75%    866911.750000       0.000000\n",
       "max    945999.000000       1.000000"
      ]
     },
     "execution_count": 17,
     "metadata": {},
     "output_type": "execute_result"
    }
   ],
   "source": [
    "# use describe or shape to find number of rows\n",
    "df.describe()"
   ]
  },
  {
   "cell_type": "code",
   "execution_count": 18,
   "metadata": {},
   "outputs": [
    {
     "data": {
      "text/plain": [
       "(294478, 5)"
      ]
     },
     "execution_count": 18,
     "metadata": {},
     "output_type": "execute_result"
    }
   ],
   "source": [
    "df.shape"
   ]
  },
  {
   "cell_type": "code",
   "execution_count": 19,
   "metadata": {},
   "outputs": [
    {
     "data": {
      "text/plain": [
       "user_id         290584\n",
       "timestamp       272926\n",
       "group                2\n",
       "landing_page         2\n",
       "converted            2\n",
       "dtype: int64"
      ]
     },
     "execution_count": 19,
     "metadata": {},
     "output_type": "execute_result"
    }
   ],
   "source": [
    "df.nunique()"
   ]
  },
  {
   "cell_type": "code",
   "execution_count": 20,
   "metadata": {},
   "outputs": [
    {
     "name": "stdout",
     "output_type": "stream",
     "text": [
      "<class 'pandas.core.frame.DataFrame'>\n",
      "RangeIndex: 294478 entries, 0 to 294477\n",
      "Data columns (total 5 columns):\n",
      "user_id         294478 non-null int64\n",
      "timestamp       294478 non-null datetime64[ns]\n",
      "group           294478 non-null object\n",
      "landing_page    294478 non-null object\n",
      "converted       294478 non-null int64\n",
      "dtypes: datetime64[ns](1), int64(2), object(2)\n",
      "memory usage: 11.2+ MB\n"
     ]
    }
   ],
   "source": [
    "df.info()"
   ]
  },
  {
   "cell_type": "code",
   "execution_count": 21,
   "metadata": {},
   "outputs": [],
   "source": [
    "# put all treatment AND new_page into one dataframe\n",
    "df2t = df.query('group == \"treatment\" and landing_page == \"new_page\"')"
   ]
  },
  {
   "cell_type": "code",
   "execution_count": 22,
   "metadata": {},
   "outputs": [],
   "source": [
    "# put all control AND old_page into one dataframe\n",
    "df2c = df.query('group == \"control\" and landing_page == \"old_page\"')"
   ]
  },
  {
   "cell_type": "code",
   "execution_count": 23,
   "metadata": {},
   "outputs": [],
   "source": [
    "df2 = df2t.merge(df2c, how='outer')"
   ]
  },
  {
   "cell_type": "code",
   "execution_count": 24,
   "metadata": {},
   "outputs": [
    {
     "data": {
      "text/html": [
       "<div>\n",
       "<style scoped>\n",
       "    .dataframe tbody tr th:only-of-type {\n",
       "        vertical-align: middle;\n",
       "    }\n",
       "\n",
       "    .dataframe tbody tr th {\n",
       "        vertical-align: top;\n",
       "    }\n",
       "\n",
       "    .dataframe thead th {\n",
       "        text-align: right;\n",
       "    }\n",
       "</style>\n",
       "<table border=\"1\" class=\"dataframe\">\n",
       "  <thead>\n",
       "    <tr style=\"text-align: right;\">\n",
       "      <th></th>\n",
       "      <th>user_id</th>\n",
       "      <th>timestamp</th>\n",
       "      <th>group</th>\n",
       "      <th>landing_page</th>\n",
       "      <th>converted</th>\n",
       "    </tr>\n",
       "  </thead>\n",
       "  <tbody>\n",
       "    <tr>\n",
       "      <th>0</th>\n",
       "      <td>661590</td>\n",
       "      <td>2019-01-11 16:55:06</td>\n",
       "      <td>treatment</td>\n",
       "      <td>new_page</td>\n",
       "      <td>0</td>\n",
       "    </tr>\n",
       "    <tr>\n",
       "      <th>1</th>\n",
       "      <td>853541</td>\n",
       "      <td>2019-01-08 18:28:03</td>\n",
       "      <td>treatment</td>\n",
       "      <td>new_page</td>\n",
       "      <td>0</td>\n",
       "    </tr>\n",
       "    <tr>\n",
       "      <th>2</th>\n",
       "      <td>679687</td>\n",
       "      <td>2019-01-19 03:26:47</td>\n",
       "      <td>treatment</td>\n",
       "      <td>new_page</td>\n",
       "      <td>1</td>\n",
       "    </tr>\n",
       "    <tr>\n",
       "      <th>3</th>\n",
       "      <td>817355</td>\n",
       "      <td>2019-01-04 17:58:09</td>\n",
       "      <td>treatment</td>\n",
       "      <td>new_page</td>\n",
       "      <td>1</td>\n",
       "    </tr>\n",
       "    <tr>\n",
       "      <th>4</th>\n",
       "      <td>839785</td>\n",
       "      <td>2019-01-15 18:11:07</td>\n",
       "      <td>treatment</td>\n",
       "      <td>new_page</td>\n",
       "      <td>1</td>\n",
       "    </tr>\n",
       "  </tbody>\n",
       "</table>\n",
       "</div>"
      ],
      "text/plain": [
       "   user_id           timestamp      group landing_page  converted\n",
       "0   661590 2019-01-11 16:55:06  treatment     new_page          0\n",
       "1   853541 2019-01-08 18:28:03  treatment     new_page          0\n",
       "2   679687 2019-01-19 03:26:47  treatment     new_page          1\n",
       "3   817355 2019-01-04 17:58:09  treatment     new_page          1\n",
       "4   839785 2019-01-15 18:11:07  treatment     new_page          1"
      ]
     },
     "execution_count": 24,
     "metadata": {},
     "output_type": "execute_result"
    }
   ],
   "source": [
    "df2.head()"
   ]
  },
  {
   "cell_type": "code",
   "execution_count": 25,
   "metadata": {},
   "outputs": [
    {
     "data": {
      "text/plain": [
       "0.1203863045004612"
      ]
     },
     "execution_count": 25,
     "metadata": {},
     "output_type": "execute_result"
    }
   ],
   "source": [
    "df2_control = df2.query('group == \"control\"')\n",
    "df2_control.converted.mean()"
   ]
  },
  {
   "cell_type": "code",
   "execution_count": 26,
   "metadata": {},
   "outputs": [
    {
     "data": {
      "text/plain": [
       "0.11880724790277405"
      ]
     },
     "execution_count": 26,
     "metadata": {},
     "output_type": "execute_result"
    }
   ],
   "source": [
    "df2_treatment = df2.query('group == \"treatment\"')\n",
    "df2_treatment.converted.mean()"
   ]
  },
  {
   "cell_type": "code",
   "execution_count": 27,
   "metadata": {},
   "outputs": [
    {
     "data": {
      "text/plain": [
       "0.11959667567149027"
      ]
     },
     "execution_count": 27,
     "metadata": {},
     "output_type": "execute_result"
    }
   ],
   "source": [
    "convert_mean = df2.converted.mean()\n",
    "convert_mean"
   ]
  },
  {
   "cell_type": "code",
   "execution_count": 28,
   "metadata": {},
   "outputs": [
    {
     "data": {
      "text/plain": [
       "0.5000636646764286"
      ]
     },
     "execution_count": 28,
     "metadata": {},
     "output_type": "execute_result"
    }
   ],
   "source": [
    "len(df2_treatment.index)/len(df2.index)"
   ]
  },
  {
   "cell_type": "code",
   "execution_count": 29,
   "metadata": {},
   "outputs": [
    {
     "data": {
      "text/plain": [
       "145311"
      ]
     },
     "execution_count": 29,
     "metadata": {},
     "output_type": "execute_result"
    }
   ],
   "source": [
    "n_new = len(df2_treatment.index)\n",
    "n_new"
   ]
  },
  {
   "cell_type": "code",
   "execution_count": 30,
   "metadata": {},
   "outputs": [
    {
     "data": {
      "text/plain": [
       "145274"
      ]
     },
     "execution_count": 30,
     "metadata": {},
     "output_type": "execute_result"
    }
   ],
   "source": [
    "n_old = len(df2_control.index)\n",
    "n_old"
   ]
  },
  {
   "cell_type": "code",
   "execution_count": 31,
   "metadata": {},
   "outputs": [],
   "source": [
    "# simulate under null for n_new\n",
    "new_page_converted = np.random.choice([1, 0], size=len(df2_treatment.index), p=[df2.converted.mean(), (1-(df2.converted.mean()))])"
   ]
  },
  {
   "cell_type": "code",
   "execution_count": 32,
   "metadata": {},
   "outputs": [
    {
     "data": {
      "image/png": "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\n",
      "text/plain": [
       "<matplotlib.figure.Figure at 0x170ed9c0c50>"
      ]
     },
     "metadata": {
      "needs_background": "light"
     },
     "output_type": "display_data"
    }
   ],
   "source": [
    "plt.hist(new_page_converted);"
   ]
  },
  {
   "cell_type": "code",
   "execution_count": 33,
   "metadata": {},
   "outputs": [],
   "source": [
    "# simulate under null for n_new\n",
    "old_page_converted = np.random.choice([1, 0], size=len(df2_control.index), p=[df2.converted.mean(), (1-(df2.converted.mean()))])"
   ]
  },
  {
   "cell_type": "code",
   "execution_count": 34,
   "metadata": {},
   "outputs": [
    {
     "data": {
      "text/plain": [
       "-0.00016805623349583354"
      ]
     },
     "execution_count": 34,
     "metadata": {},
     "output_type": "execute_result"
    }
   ],
   "source": [
    "new_page_converted.mean() - old_page_converted.mean()"
   ]
  },
  {
   "cell_type": "code",
   "execution_count": 35,
   "metadata": {},
   "outputs": [],
   "source": [
    "p_diffs = []\n",
    "\n",
    "for i in range(1000):\n",
    "    new_page_converted = np.random.choice([0, 1], size=n_new, p=[(1 - convert_mean), convert_mean])\n",
    "    old_page_converted = np.random.choice([0, 1], size=n_old, p=[(1 - convert_mean), convert_mean])\n",
    "    p_diffs.append(new_page_converted.mean() - old_page_converted.mean())"
   ]
  },
  {
   "cell_type": "code",
   "execution_count": 36,
   "metadata": {},
   "outputs": [],
   "source": [
    "p_diffs = np.asarray(p_diffs)"
   ]
  },
  {
   "cell_type": "code",
   "execution_count": 37,
   "metadata": {},
   "outputs": [
    {
     "data": {
      "text/plain": [
       "0.1203863045004612"
      ]
     },
     "execution_count": 37,
     "metadata": {},
     "output_type": "execute_result"
    }
   ],
   "source": [
    "control_convert = df2[df2['group'] == 'control']['converted'].mean()\n",
    "control_convert"
   ]
  },
  {
   "cell_type": "code",
   "execution_count": 38,
   "metadata": {},
   "outputs": [
    {
     "data": {
      "text/plain": [
       "0.11880724790277405"
      ]
     },
     "execution_count": 38,
     "metadata": {},
     "output_type": "execute_result"
    }
   ],
   "source": [
    "treat_convert = df2[df2['group'] == 'treatment']['converted'].mean()\n",
    "treat_convert"
   ]
  },
  {
   "cell_type": "code",
   "execution_count": 39,
   "metadata": {},
   "outputs": [
    {
     "data": {
      "image/png": "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\n",
      "text/plain": [
       "<matplotlib.figure.Figure at 0x170ec1de0b8>"
      ]
     },
     "metadata": {
      "needs_background": "light"
     },
     "output_type": "display_data"
    }
   ],
   "source": [
    "plt.hist(p_diffs)\n",
    "plt.title(\"Simulated Differences in Conversion Rates for Null Hypothesis \\n\", fontsize=14)\n",
    "plt.xlabel(\"\\n Difference in Probability\", fontsize=12)\n",
    "plt.axvline(treat_convert - control_convert, color='r');"
   ]
  },
  {
   "cell_type": "code",
   "execution_count": 40,
   "metadata": {},
   "outputs": [
    {
     "data": {
      "text/plain": [
       "0.903"
      ]
     },
     "execution_count": 40,
     "metadata": {},
     "output_type": "execute_result"
    }
   ],
   "source": [
    "obs_diff = treat_convert - control_convert\n",
    "\n",
    "(p_diffs > obs_diff).mean()"
   ]
  },
  {
   "cell_type": "code",
   "execution_count": 41,
   "metadata": {},
   "outputs": [
    {
     "name": "stderr",
     "output_type": "stream",
     "text": [
      "C:\\Users\\humay\\Anaconda3\\lib\\site-packages\\statsmodels\\compat\\pandas.py:56: FutureWarning: The pandas.core.datetools module is deprecated and will be removed in a future version. Please use the pandas.tseries module instead.\n",
      "  from pandas.core import datetools\n"
     ]
    }
   ],
   "source": [
    "\n",
    "import statsmodels.api as sm\n",
    "\n",
    "convert_old = df2.query('group == \"control\" & converted == 1')['converted'].count()\n",
    "convert_new = df2.query('group == \"treatment\" & converted == 1')['converted'].count()"
   ]
  },
  {
   "cell_type": "code",
   "execution_count": 42,
   "metadata": {},
   "outputs": [
    {
     "data": {
      "text/plain": [
       "(-1.3116075339133115, 0.905173705140591)"
      ]
     },
     "execution_count": 42,
     "metadata": {},
     "output_type": "execute_result"
    }
   ],
   "source": [
    "sm.stats.proportions_ztest([convert_new, convert_old], [n_new, n_old], alternative='larger')"
   ]
  },
  {
   "cell_type": "code",
   "execution_count": 43,
   "metadata": {},
   "outputs": [],
   "source": [
    "df22=df.groupby('group',as_index=False).agg({'converted':'sum','user_id':'count'})"
   ]
  },
  {
   "cell_type": "code",
   "execution_count": 44,
   "metadata": {},
   "outputs": [
    {
     "data": {
      "text/html": [
       "<div>\n",
       "<style scoped>\n",
       "    .dataframe tbody tr th:only-of-type {\n",
       "        vertical-align: middle;\n",
       "    }\n",
       "\n",
       "    .dataframe tbody tr th {\n",
       "        vertical-align: top;\n",
       "    }\n",
       "\n",
       "    .dataframe thead th {\n",
       "        text-align: right;\n",
       "    }\n",
       "</style>\n",
       "<table border=\"1\" class=\"dataframe\">\n",
       "  <thead>\n",
       "    <tr style=\"text-align: right;\">\n",
       "      <th></th>\n",
       "      <th>group</th>\n",
       "      <th>converted</th>\n",
       "      <th>user_id</th>\n",
       "    </tr>\n",
       "  </thead>\n",
       "  <tbody>\n",
       "    <tr>\n",
       "      <th>0</th>\n",
       "      <td>control</td>\n",
       "      <td>17723</td>\n",
       "      <td>147202</td>\n",
       "    </tr>\n",
       "    <tr>\n",
       "      <th>1</th>\n",
       "      <td>treatment</td>\n",
       "      <td>17514</td>\n",
       "      <td>147276</td>\n",
       "    </tr>\n",
       "  </tbody>\n",
       "</table>\n",
       "</div>"
      ],
      "text/plain": [
       "       group  converted  user_id\n",
       "0    control      17723   147202\n",
       "1  treatment      17514   147276"
      ]
     },
     "execution_count": 44,
     "metadata": {},
     "output_type": "execute_result"
    }
   ],
   "source": [
    "df22.head()"
   ]
  },
  {
   "cell_type": "code",
   "execution_count": null,
   "metadata": {},
   "outputs": [],
   "source": []
  }
 ],
 "metadata": {
  "kernelspec": {
   "display_name": "Python 3",
   "language": "python",
   "name": "python3"
  },
  "language_info": {
   "codemirror_mode": {
    "name": "ipython",
    "version": 3
   },
   "file_extension": ".py",
   "mimetype": "text/x-python",
   "name": "python",
   "nbconvert_exporter": "python",
   "pygments_lexer": "ipython3",
   "version": "3.6.4"
  }
 },
 "nbformat": 4,
 "nbformat_minor": 2
}
